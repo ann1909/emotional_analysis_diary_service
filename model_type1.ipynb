{
 "cells": [
  {
   "cell_type": "code",
   "execution_count": 1,
   "metadata": {
    "ExecuteTime": {
     "end_time": "2021-03-24T00:31:27.983303Z",
     "start_time": "2021-03-24T00:31:26.616957Z"
    }
   },
   "outputs": [],
   "source": [
    "import pandas as pd\n",
    "import numpy as np\n",
    "from konlpy.tag import Okt\n",
    "from konlpy.tag import Kkma\n",
    "from konlpy.tag import Hannanum\n",
    "from konlpy.tag import Komoran\n",
    "import xlrd\n",
    "from sklearn.model_selection import GridSearchCV\n",
    "from sklearn.tree import DecisionTreeRegressor\n",
    "from sklearn.linear_model import LinearRegression\n",
    "import matplotlib.pyplot as plt\n",
    "from sklearn.feature_extraction.text import CountVectorizer\n",
    "from sklearn.feature_extraction.text import TfidfVectorizer\n",
    "import numpy as np\n",
    "import pandas as pd\n",
    "from sklearn.linear_model import LogisticRegression\n",
    "from matplotlib import font_manager,rc\n",
    "font_name = font_manager.FontProperties(fname='C:\\Windows\\Fonts\\malgun.ttf').get_name()\n",
    "rc('font',family=font_name)\n",
    "from sklearn.pipeline import make_pipeline\n",
    "from sklearn.model_selection import train_test_split\n",
    "from sklearn.model_selection import cross_val_score"
   ]
  },
  {
   "cell_type": "markdown",
   "metadata": {},
   "source": [
    "# 데이터전처리"
   ]
  },
  {
   "cell_type": "code",
   "execution_count": 180,
   "metadata": {
    "ExecuteTime": {
     "end_time": "2021-03-20T01:18:14.758595Z",
     "start_time": "2021-03-20T01:18:14.744638Z"
    }
   },
   "outputs": [
    {
     "data": {
      "text/html": [
       "<div>\n",
       "<style scoped>\n",
       "    .dataframe tbody tr th:only-of-type {\n",
       "        vertical-align: middle;\n",
       "    }\n",
       "\n",
       "    .dataframe tbody tr th {\n",
       "        vertical-align: top;\n",
       "    }\n",
       "\n",
       "    .dataframe thead th {\n",
       "        text-align: right;\n",
       "    }\n",
       "</style>\n",
       "<table border=\"1\" class=\"dataframe\">\n",
       "  <thead>\n",
       "    <tr style=\"text-align: right;\">\n",
       "      <th></th>\n",
       "      <th>content</th>\n",
       "      <th>label</th>\n",
       "    </tr>\n",
       "  </thead>\n",
       "  <tbody>\n",
       "    <tr>\n",
       "      <th>0</th>\n",
       "      <td>★ 사랑합니다.⠀⠀Have a GODday🙏⠀핸드폰 배경화면 ...</td>\n",
       "      <td>1</td>\n",
       "    </tr>\n",
       "    <tr>\n",
       "      <th>1</th>\n",
       "      <td>🤬삐삐-삐-삐삐--프로필 사진이나 블로그 등 상업...</td>\n",
       "      <td>1</td>\n",
       "    </tr>\n",
       "    <tr>\n",
       "      <th>2</th>\n",
       "      <td>김호중 공식 팬카페 가입을 환영합니다 오시는 길은 프로필에#김호중 #kimhojoo...</td>\n",
       "      <td>1</td>\n",
       "    </tr>\n",
       "    <tr>\n",
       "      <th>3</th>\n",
       "      <td>김호중 공식 팬카페 가입을 환영합니다 오시는 길은 프로필에#김호중 #kimhojoo...</td>\n",
       "      <td>1</td>\n",
       "    </tr>\n",
       "    <tr>\n",
       "      <th>4</th>\n",
       "      <td>1 2 3 🎬📸📸 !!!😻🌲😽STRAY &amp; STRONG 🇰🇷🤟🥵#안녕 #머...</td>\n",
       "      <td>1</td>\n",
       "    </tr>\n",
       "    <tr>\n",
       "      <th>...</th>\n",
       "      <td>...</td>\n",
       "      <td>...</td>\n",
       "    </tr>\n",
       "    <tr>\n",
       "      <th>15995</th>\n",
       "      <td>벼랑 끝에 서있는 것 같은 오늘.</td>\n",
       "      <td>6</td>\n",
       "    </tr>\n",
       "    <tr>\n",
       "      <th>15996</th>\n",
       "      <td>괜찮아질 때까지 마음껏 우울해하기...뒤에 타임랩스도 있음#artwork #draw...</td>\n",
       "      <td>6</td>\n",
       "    </tr>\n",
       "    <tr>\n",
       "      <th>15997</th>\n",
       "      <td>#우울#심란요즘 심란하고 힘들어서 읽기시작한 책.관계정리가 필요한 시기인듯합니다.</td>\n",
       "      <td>6</td>\n",
       "    </tr>\n",
       "    <tr>\n",
       "      <th>15998</th>\n",
       "      <td>나 힘든거 제일 잘 알았으면서. 제일 가까이서 지켜봤으면서. 내 마음 잘 이해한다고...</td>\n",
       "      <td>6</td>\n",
       "    </tr>\n",
       "    <tr>\n",
       "      <th>15999</th>\n",
       "      <td>#경계성성격장애 #성격장애 #우울증 #상처 #우울 #심리툰 #일상툰 #일상툰그램 #...</td>\n",
       "      <td>6</td>\n",
       "    </tr>\n",
       "  </tbody>\n",
       "</table>\n",
       "<p>16000 rows × 2 columns</p>\n",
       "</div>"
      ],
      "text/plain": [
       "                                                 content  label\n",
       "0      ★ 사랑합니다.⠀⠀Have a GODday🙏⠀핸드폰 배경화면 ...      1\n",
       "1      🤬삐삐-삐-삐삐--프로필 사진이나 블로그 등 상업...      1\n",
       "2      김호중 공식 팬카페 가입을 환영합니다 오시는 길은 프로필에#김호중 #kimhojoo...      1\n",
       "3      김호중 공식 팬카페 가입을 환영합니다 오시는 길은 프로필에#김호중 #kimhojoo...      1\n",
       "4      1 2 3 🎬📸📸 !!!😻🌲😽STRAY & STRONG 🇰🇷🤟🥵#안녕 #머...      1\n",
       "...                                                  ...    ...\n",
       "15995                                 벼랑 끝에 서있는 것 같은 오늘.      6\n",
       "15996  괜찮아질 때까지 마음껏 우울해하기...뒤에 타임랩스도 있음#artwork #draw...      6\n",
       "15997      #우울#심란요즘 심란하고 힘들어서 읽기시작한 책.관계정리가 필요한 시기인듯합니다.      6\n",
       "15998  나 힘든거 제일 잘 알았으면서. 제일 가까이서 지켜봤으면서. 내 마음 잘 이해한다고...      6\n",
       "15999  #경계성성격장애 #성격장애 #우울증 #상처 #우울 #심리툰 #일상툰 #일상툰그램 #...      6\n",
       "\n",
       "[16000 rows x 2 columns]"
      ]
     },
     "execution_count": 180,
     "metadata": {},
     "output_type": "execute_result"
    }
   ],
   "source": [
    "df=pd.concat([data_happy,data_anger,data_flutter,data_pleasure,data_regret,data_stable,data_sad,data_depress],ignore_index=True)\n",
    "df.drop(['Unnamed: 0'],axis=1,inplace=True)\n",
    "df"
   ]
  },
  {
   "cell_type": "code",
   "execution_count": 183,
   "metadata": {
    "ExecuteTime": {
     "end_time": "2021-03-20T02:08:38.038803Z",
     "start_time": "2021-03-20T02:08:38.034813Z"
    }
   },
   "outputs": [],
   "source": [
    "def prepocessing(data):\n",
    "    for i in data.index:\n",
    "        data['content']=data['content'].str.replace(pat=r'[^\\w]',repl=r\" \",regex=True)\n",
    "        \n",
    "    data.dropna(inplace=True)\n",
    "    data.drop_duplicates(['content'],inplace=True)\n",
    "    data.reset_index(inplace=True)\n",
    "    data.drop(['index'],axis=1, inplace=True)\n"
   ]
  },
  {
   "cell_type": "code",
   "execution_count": 182,
   "metadata": {
    "ExecuteTime": {
     "end_time": "2021-03-20T02:08:37.979033Z",
     "start_time": "2021-03-20T01:18:28.607656Z"
    }
   },
   "outputs": [],
   "source": [
    "prepocessing(df)"
   ]
  },
  {
   "cell_type": "code",
   "execution_count": 184,
   "metadata": {
    "ExecuteTime": {
     "end_time": "2021-03-20T02:08:38.096648Z",
     "start_time": "2021-03-20T02:08:38.091661Z"
    }
   },
   "outputs": [],
   "source": [
    "df.drop(['index'],axis=1,inplace=True)"
   ]
  },
  {
   "cell_type": "code",
   "execution_count": 213,
   "metadata": {
    "ExecuteTime": {
     "end_time": "2021-03-20T02:35:05.130826Z",
     "start_time": "2021-03-20T02:35:03.833683Z"
    }
   },
   "outputs": [],
   "source": [
    "df['label'].value_counts()\n",
    "df.to_excel(\"data/pre_data_set.xlsx\")"
   ]
  },
  {
   "cell_type": "code",
   "execution_count": 419,
   "metadata": {
    "ExecuteTime": {
     "end_time": "2021-03-20T08:42:58.335009Z",
     "start_time": "2021-03-20T08:42:57.820354Z"
    }
   },
   "outputs": [],
   "source": [
    "df3=pd.read_excel(\"data/pre3_data_set.xlsx\")"
   ]
  },
  {
   "cell_type": "code",
   "execution_count": 836,
   "metadata": {
    "ExecuteTime": {
     "end_time": "2021-03-22T06:57:37.142190Z",
     "start_time": "2021-03-22T06:57:36.586526Z"
    }
   },
   "outputs": [],
   "source": [
    "df5=pd.read_excel('data/pre_data_set.xlsx')\n"
   ]
  },
  {
   "cell_type": "code",
   "execution_count": 840,
   "metadata": {
    "ExecuteTime": {
     "end_time": "2021-03-22T07:02:18.467601Z",
     "start_time": "2021-03-22T07:02:16.922738Z"
    }
   },
   "outputs": [],
   "source": [
    "#중복된 키워드 있을경우 삭제 \n",
    "def duplicated_keyword_del(df):\n",
    "    text=[\"행복\",\"신남\",\"분노\",\"우울\",\"설렘\",\"안정\",\"슬픔\",\"후회\"]\n",
    "    t_cnt=0\n",
    "    index_cnt=0\n",
    "    for data in df['content']:\n",
    "        cnt=0\n",
    "    \n",
    "        for j in text:\n",
    "        \n",
    "            if j in data:\n",
    "                cnt+=1\n",
    "           \n",
    "            \n",
    "        if cnt>=2:\n",
    "\n",
    "            df.drop(df['Unnamed: 0'][index_cnt],inplace=True)\n",
    "            t_cnt+=1\n",
    "    \n",
    "        index_cnt+=1\n"
   ]
  },
  {
   "cell_type": "code",
   "execution_count": 842,
   "metadata": {
    "ExecuteTime": {
     "end_time": "2021-03-22T07:02:23.529096Z",
     "start_time": "2021-03-22T07:02:23.524108Z"
    }
   },
   "outputs": [
    {
     "data": {
      "text/plain": [
       "1    1810\n",
       "3    1774\n",
       "2    1689\n",
       "5    1610\n",
       "6    1545\n",
       "8    1534\n",
       "7    1493\n",
       "4    1343\n",
       "Name: label, dtype: int64"
      ]
     },
     "execution_count": 842,
     "metadata": {},
     "output_type": "execute_result"
    }
   ],
   "source": [
    "df5['label'].value_counts()"
   ]
  },
  {
   "cell_type": "code",
   "execution_count": 844,
   "metadata": {
    "ExecuteTime": {
     "end_time": "2021-03-22T07:02:47.584104Z",
     "start_time": "2021-03-22T07:02:47.580115Z"
    }
   },
   "outputs": [],
   "source": [
    "df5.reset_index(inplace=True,drop=True)"
   ]
  },
  {
   "cell_type": "code",
   "execution_count": 845,
   "metadata": {
    "ExecuteTime": {
     "end_time": "2021-03-22T07:02:51.436823Z",
     "start_time": "2021-03-22T07:02:51.426849Z"
    }
   },
   "outputs": [
    {
     "data": {
      "text/html": [
       "<div>\n",
       "<style scoped>\n",
       "    .dataframe tbody tr th:only-of-type {\n",
       "        vertical-align: middle;\n",
       "    }\n",
       "\n",
       "    .dataframe tbody tr th {\n",
       "        vertical-align: top;\n",
       "    }\n",
       "\n",
       "    .dataframe thead th {\n",
       "        text-align: right;\n",
       "    }\n",
       "</style>\n",
       "<table border=\"1\" class=\"dataframe\">\n",
       "  <thead>\n",
       "    <tr style=\"text-align: right;\">\n",
       "      <th></th>\n",
       "      <th>index</th>\n",
       "      <th>Unnamed: 0</th>\n",
       "      <th>content</th>\n",
       "      <th>label</th>\n",
       "    </tr>\n",
       "  </thead>\n",
       "  <tbody>\n",
       "    <tr>\n",
       "      <th>0</th>\n",
       "      <td>0</td>\n",
       "      <td>0</td>\n",
       "      <td>사랑합니다   Have a GODday   핸드폰 배경화면 ...</td>\n",
       "      <td>1</td>\n",
       "    </tr>\n",
       "    <tr>\n",
       "      <th>1</th>\n",
       "      <td>1</td>\n",
       "      <td>1</td>\n",
       "      <td>삐삐 삐 삐삐  프로필 사진이나 블로그 등 상업...</td>\n",
       "      <td>1</td>\n",
       "    </tr>\n",
       "    <tr>\n",
       "      <th>2</th>\n",
       "      <td>2</td>\n",
       "      <td>2</td>\n",
       "      <td>김호중 공식 팬카페 가입을 환영합니다 오시는 길은 프로필에 김호중  kimhojoo...</td>\n",
       "      <td>1</td>\n",
       "    </tr>\n",
       "    <tr>\n",
       "      <th>3</th>\n",
       "      <td>3</td>\n",
       "      <td>3</td>\n",
       "      <td>1 2 3           STRAY   STRONG      안녕  머...</td>\n",
       "      <td>1</td>\n",
       "    </tr>\n",
       "    <tr>\n",
       "      <th>4</th>\n",
       "      <td>4</td>\n",
       "      <td>4</td>\n",
       "      <td>엄마한테 용돈 100만원 주고 욕먹는 아들 ㅋㅋㅋㅋ  큰 웃음 만들기 프로젝트   ...</td>\n",
       "      <td>1</td>\n",
       "    </tr>\n",
       "    <tr>\n",
       "      <th>...</th>\n",
       "      <td>...</td>\n",
       "      <td>...</td>\n",
       "      <td>...</td>\n",
       "      <td>...</td>\n",
       "    </tr>\n",
       "    <tr>\n",
       "      <th>12793</th>\n",
       "      <td>14713</td>\n",
       "      <td>14713</td>\n",
       "      <td>벼랑 끝에 서있는 것 같은 오늘</td>\n",
       "      <td>6</td>\n",
       "    </tr>\n",
       "    <tr>\n",
       "      <th>12794</th>\n",
       "      <td>14714</td>\n",
       "      <td>14714</td>\n",
       "      <td>괜찮아질 때까지 마음껏 우울해하기   뒤에 타임랩스도 있음 artwork  draw...</td>\n",
       "      <td>6</td>\n",
       "    </tr>\n",
       "    <tr>\n",
       "      <th>12795</th>\n",
       "      <td>14715</td>\n",
       "      <td>14715</td>\n",
       "      <td>우울 심란요즘 심란하고 힘들어서 읽기시작한 책 관계정리가 필요한 시기인듯합니다</td>\n",
       "      <td>6</td>\n",
       "    </tr>\n",
       "    <tr>\n",
       "      <th>12796</th>\n",
       "      <td>14716</td>\n",
       "      <td>14716</td>\n",
       "      <td>나 힘든거 제일 잘 알았으면서  제일 가까이서 지켜봤으면서  내 마음 잘 이해한다고...</td>\n",
       "      <td>6</td>\n",
       "    </tr>\n",
       "    <tr>\n",
       "      <th>12797</th>\n",
       "      <td>14717</td>\n",
       "      <td>14717</td>\n",
       "      <td>경계성성격장애  성격장애  우울증  상처  우울  심리툰  일상툰  일상툰그램  ...</td>\n",
       "      <td>6</td>\n",
       "    </tr>\n",
       "  </tbody>\n",
       "</table>\n",
       "<p>12798 rows × 4 columns</p>\n",
       "</div>"
      ],
      "text/plain": [
       "       index  Unnamed: 0                                            content  \\\n",
       "0          0           0    사랑합니다   Have a GODday   핸드폰 배경화면 ...   \n",
       "1          1           1   삐삐 삐 삐삐  프로필 사진이나 블로그 등 상업...   \n",
       "2          2           2  김호중 공식 팬카페 가입을 환영합니다 오시는 길은 프로필에 김호중  kimhojoo...   \n",
       "3          3           3  1 2 3           STRAY   STRONG      안녕  머...   \n",
       "4          4           4  엄마한테 용돈 100만원 주고 욕먹는 아들 ㅋㅋㅋㅋ  큰 웃음 만들기 프로젝트   ...   \n",
       "...      ...         ...                                                ...   \n",
       "12793  14713       14713                                 벼랑 끝에 서있는 것 같은 오늘    \n",
       "12794  14714       14714  괜찮아질 때까지 마음껏 우울해하기   뒤에 타임랩스도 있음 artwork  draw...   \n",
       "12795  14715       14715       우울 심란요즘 심란하고 힘들어서 읽기시작한 책 관계정리가 필요한 시기인듯합니다    \n",
       "12796  14716       14716  나 힘든거 제일 잘 알았으면서  제일 가까이서 지켜봤으면서  내 마음 잘 이해한다고...   \n",
       "12797  14717       14717   경계성성격장애  성격장애  우울증  상처  우울  심리툰  일상툰  일상툰그램  ...   \n",
       "\n",
       "       label  \n",
       "0          1  \n",
       "1          1  \n",
       "2          1  \n",
       "3          1  \n",
       "4          1  \n",
       "...      ...  \n",
       "12793      6  \n",
       "12794      6  \n",
       "12795      6  \n",
       "12796      6  \n",
       "12797      6  \n",
       "\n",
       "[12798 rows x 4 columns]"
      ]
     },
     "execution_count": 845,
     "metadata": {},
     "output_type": "execute_result"
    }
   ],
   "source": [
    "df5"
   ]
  },
  {
   "cell_type": "code",
   "execution_count": 850,
   "metadata": {
    "ExecuteTime": {
     "end_time": "2021-03-22T07:03:37.386551Z",
     "start_time": "2021-03-22T07:03:37.380592Z"
    }
   },
   "outputs": [],
   "source": [
    "df5.drop(['index'],axis=1,inplace=True)"
   ]
  },
  {
   "cell_type": "code",
   "execution_count": 854,
   "metadata": {
    "ExecuteTime": {
     "end_time": "2021-03-22T07:04:32.985359Z",
     "start_time": "2021-03-22T07:04:32.979374Z"
    }
   },
   "outputs": [],
   "source": [
    "df5.drop(['Unnamed: 0'],axis=1, inplace=True)"
   ]
  },
  {
   "cell_type": "code",
   "execution_count": 856,
   "metadata": {
    "ExecuteTime": {
     "end_time": "2021-03-22T07:04:46.775762Z",
     "start_time": "2021-03-22T07:04:46.762795Z"
    },
    "scrolled": true
   },
   "outputs": [
    {
     "data": {
      "text/plain": [
       "0        True\n",
       "1        True\n",
       "2        True\n",
       "3        True\n",
       "4        True\n",
       "         ... \n",
       "12793    True\n",
       "12794    True\n",
       "12795    True\n",
       "12796    True\n",
       "12797    True\n",
       "Name: content, Length: 12798, dtype: bool"
      ]
     },
     "execution_count": 856,
     "metadata": {},
     "output_type": "execute_result"
    }
   ],
   "source": [
    "df5['content'].str.contains(\" \").replace(\"\")"
   ]
  },
  {
   "cell_type": "code",
   "execution_count": 857,
   "metadata": {
    "ExecuteTime": {
     "end_time": "2021-03-22T07:08:02.971576Z",
     "start_time": "2021-03-22T07:04:55.963426Z"
    },
    "collapsed": true
   },
   "outputs": [
    {
     "name": "stdout",
     "output_type": "stream",
     "text": [
      " \n",
      "162\n",
      "  \n",
      "204\n",
      "    \n",
      "403\n",
      "                              \n",
      "443\n",
      "   \n",
      "1152\n",
      "       \n",
      "1423\n",
      "      \n",
      "1591\n",
      "                \n",
      "5694\n",
      "          \n",
      "7245\n",
      "     \n",
      "8156\n",
      "           \n",
      "9819\n",
      "               \n",
      "11502\n"
     ]
    }
   ],
   "source": [
    "okt=Okt()\n",
    "cnt=0\n",
    "for data in df5['content']:\n",
    "    if(len(okt.morphs(data))<1):\n",
    "        print(data)\n",
    "        print(cnt)\n",
    "        df.drop(df.index[cnt],inplace=True    \n",
    "    cnt+=1"
   ]
  },
  {
   "cell_type": "code",
   "execution_count": 859,
   "metadata": {
    "ExecuteTime": {
     "end_time": "2021-03-22T07:08:03.255753Z",
     "start_time": "2021-03-22T07:08:03.250794Z"
    }
   },
   "outputs": [],
   "source": [
    "df5.sort_values(['label'],inplace=True)\n",
    "df5.reset_index(drop=True, inplace=True)"
   ]
  },
  {
   "cell_type": "code",
   "execution_count": 860,
   "metadata": {
    "ExecuteTime": {
     "end_time": "2021-03-22T07:11:05.155266Z",
     "start_time": "2021-03-22T07:11:05.147291Z"
    }
   },
   "outputs": [
    {
     "data": {
      "text/html": [
       "<div>\n",
       "<style scoped>\n",
       "    .dataframe tbody tr th:only-of-type {\n",
       "        vertical-align: middle;\n",
       "    }\n",
       "\n",
       "    .dataframe tbody tr th {\n",
       "        vertical-align: top;\n",
       "    }\n",
       "\n",
       "    .dataframe thead th {\n",
       "        text-align: right;\n",
       "    }\n",
       "</style>\n",
       "<table border=\"1\" class=\"dataframe\">\n",
       "  <thead>\n",
       "    <tr style=\"text-align: right;\">\n",
       "      <th></th>\n",
       "      <th>content</th>\n",
       "      <th>label</th>\n",
       "    </tr>\n",
       "  </thead>\n",
       "  <tbody>\n",
       "    <tr>\n",
       "      <th>0</th>\n",
       "      <td>사랑합니다   Have a GODday   핸드폰 배경화면 ...</td>\n",
       "      <td>1</td>\n",
       "    </tr>\n",
       "    <tr>\n",
       "      <th>1</th>\n",
       "      <td>소고기 애호박 미음 1일차시작은 냠냠 잘 먹다가 더달라는 짜증인줄 알았는데반전 먹기...</td>\n",
       "      <td>1</td>\n",
       "    </tr>\n",
       "    <tr>\n",
       "      <th>2</th>\n",
       "      <td>까꿍</td>\n",
       "      <td>1</td>\n",
       "    </tr>\n",
       "    <tr>\n",
       "      <th>3</th>\n",
       "      <td>춘천 첫 러닝내 사랑과 함께 야간 러닝데이트                     기록</td>\n",
       "      <td>1</td>\n",
       "    </tr>\n",
       "    <tr>\n",
       "      <th>4</th>\n",
       "      <td>_행뽁 아직도 너무 귀여워엄마빠 둘만 있는걸 못보는 내사랑</td>\n",
       "      <td>1</td>\n",
       "    </tr>\n",
       "    <tr>\n",
       "      <th>...</th>\n",
       "      <td>...</td>\n",
       "      <td>...</td>\n",
       "    </tr>\n",
       "    <tr>\n",
       "      <th>12793</th>\n",
       "      <td>분노 방송을안한다고</td>\n",
       "      <td>8</td>\n",
       "    </tr>\n",
       "    <tr>\n",
       "      <th>12794</th>\n",
       "      <td>감성 감정 글귀스타그램 글귀 진실 가사 노래 이성 인성 독서 또라이 용서 분노 절...</td>\n",
       "      <td>8</td>\n",
       "    </tr>\n",
       "    <tr>\n",
       "      <th>12795</th>\n",
       "      <td>아 ㅋㄱㅋㄱㅋㄱㅋㄲㅋㄱㅋㄱㅋㄱㅋㅋㅋㄱㅋㄱㅋㄱㅋㄱㅋㄱㅋㄱㅋㄱㅋㄱㅋㄱㅋㄱㅋㄱㅋㄱㅋㄱㅋㄱ...</td>\n",
       "      <td>8</td>\n",
       "    </tr>\n",
       "    <tr>\n",
       "      <th>12796</th>\n",
       "      <td>오늘의 꽃  2 11 멜리사꽃말   동정개화시기 늦여름 늦여름에 꽃을 피워낸다고 알...</td>\n",
       "      <td>8</td>\n",
       "    </tr>\n",
       "    <tr>\n",
       "      <th>12797</th>\n",
       "      <td>나로 사는 용기 나 사 용 심화과정 사과에 대하여     내가쓰는나사전 나사용 나로...</td>\n",
       "      <td>8</td>\n",
       "    </tr>\n",
       "  </tbody>\n",
       "</table>\n",
       "<p>12798 rows × 2 columns</p>\n",
       "</div>"
      ],
      "text/plain": [
       "                                                 content  label\n",
       "0        사랑합니다   Have a GODday   핸드폰 배경화면 ...      1\n",
       "1      소고기 애호박 미음 1일차시작은 냠냠 잘 먹다가 더달라는 짜증인줄 알았는데반전 먹기...      1\n",
       "2                                                    까꿍       1\n",
       "3        춘천 첫 러닝내 사랑과 함께 야간 러닝데이트                     기록      1\n",
       "4                       _행뽁 아직도 너무 귀여워엄마빠 둘만 있는걸 못보는 내사랑      1\n",
       "...                                                  ...    ...\n",
       "12793                                        분노 방송을안한다고       8\n",
       "12794   감성 감정 글귀스타그램 글귀 진실 가사 노래 이성 인성 독서 또라이 용서 분노 절...      8\n",
       "12795  아 ㅋㄱㅋㄱㅋㄱㅋㄲㅋㄱㅋㄱㅋㄱㅋㅋㅋㄱㅋㄱㅋㄱㅋㄱㅋㄱㅋㄱㅋㄱㅋㄱㅋㄱㅋㄱㅋㄱㅋㄱㅋㄱㅋㄱ...      8\n",
       "12796  오늘의 꽃  2 11 멜리사꽃말   동정개화시기 늦여름 늦여름에 꽃을 피워낸다고 알...      8\n",
       "12797  나로 사는 용기 나 사 용 심화과정 사과에 대하여     내가쓰는나사전 나사용 나로...      8\n",
       "\n",
       "[12798 rows x 2 columns]"
      ]
     },
     "execution_count": 860,
     "metadata": {},
     "output_type": "execute_result"
    }
   ],
   "source": [
    "df5"
   ]
  },
  {
   "cell_type": "code",
   "execution_count": 861,
   "metadata": {
    "ExecuteTime": {
     "end_time": "2021-03-22T07:11:24.741601Z",
     "start_time": "2021-03-22T07:11:23.634879Z"
    }
   },
   "outputs": [],
   "source": [
    "df5.to_excel(\"data/pre4_data_set.xlsx\")"
   ]
  },
  {
   "cell_type": "markdown",
   "metadata": {},
   "source": [
    "### 데이터셋 불러오기"
   ]
  },
  {
   "cell_type": "code",
   "execution_count": 2,
   "metadata": {
    "ExecuteTime": {
     "end_time": "2021-03-24T00:32:17.174521Z",
     "start_time": "2021-03-24T00:32:16.616005Z"
    }
   },
   "outputs": [],
   "source": [
    "df5=pd.read_excel(\"data/pre4_data_set.xlsx\")"
   ]
  },
  {
   "cell_type": "code",
   "execution_count": 3,
   "metadata": {
    "ExecuteTime": {
     "end_time": "2021-03-24T00:32:17.962386Z",
     "start_time": "2021-03-24T00:32:17.952438Z"
    }
   },
   "outputs": [],
   "source": [
    "df5.drop([\"Unnamed: 0\"],axis=1, inplace=True)"
   ]
  },
  {
   "cell_type": "code",
   "execution_count": 4,
   "metadata": {
    "ExecuteTime": {
     "end_time": "2021-03-24T00:32:22.776296Z",
     "start_time": "2021-03-24T00:32:19.864058Z"
    }
   },
   "outputs": [],
   "source": [
    "komo=Komoran()\n",
    "kkma=Kkma()\n",
    "okt=Okt()"
   ]
  },
  {
   "cell_type": "markdown",
   "metadata": {},
   "source": [
    "### 토크나이저\n",
    "- konlpy의 okt이용\n",
    "- 불용어도 넣을수있음"
   ]
  },
  {
   "cell_type": "code",
   "execution_count": 6,
   "metadata": {
    "ExecuteTime": {
     "end_time": "2021-03-25T00:27:51.933987Z",
     "start_time": "2021-03-25T00:27:51.929984Z"
    }
   },
   "outputs": [],
   "source": [
    "#토크나이저 okt 분석기 사용 명사/영어/동사/숫자/형용사/감탄사//파편화되있는단어가있어 foreign도 추가해야됨 추출// \n",
    "#불용어는 우리가 검색한 단어만 추가\n",
    "#토크나이저를 조정하면서 실험해봐도 될듯\n",
    "def tokenizer(raw, pos=[\"Noun\",\"Alpha\",\"Verb\",\"Adjective\"], stopword=[]):\n",
    "    return [\n",
    "        word for word, tag in okt.pos(\n",
    "            raw, \n",
    "            norm=True,   #\n",
    "            stem=True    #어간추출\n",
    "            )\n",
    "            if len(word) > 1 and tag in pos and word not in stopword\n",
    "        ]"
   ]
  },
  {
   "cell_type": "code",
   "execution_count": 100,
   "metadata": {
    "ExecuteTime": {
     "end_time": "2021-03-24T03:39:47.132848Z",
     "start_time": "2021-03-24T03:39:47.129880Z"
    },
    "scrolled": true
   },
   "outputs": [],
   "source": [
    "pipe_model=make_pipeline(TfidfVectorizer(tokenizer=tokenizer), LogisticRegression())\n",
    "##기본 TfidfVectorizer, 로지스틱레그레션                                                                                                                               "
   ]
  },
  {
   "cell_type": "code",
   "execution_count": 7,
   "metadata": {
    "ExecuteTime": {
     "end_time": "2021-03-24T00:32:38.867690Z",
     "start_time": "2021-03-24T00:32:38.861706Z"
    }
   },
   "outputs": [],
   "source": [
    "X_train,X_test,y_train,y_test=train_test_split(df5.content,df5.label,\n",
    "                                                 test_size=0.3, random_state=23)"
   ]
  },
  {
   "cell_type": "code",
   "execution_count": 880,
   "metadata": {
    "ExecuteTime": {
     "end_time": "2021-03-22T07:43:43.038409Z",
     "start_time": "2021-03-22T07:41:07.603825Z"
    }
   },
   "outputs": [
    {
     "name": "stderr",
     "output_type": "stream",
     "text": [
      "C:\\Users\\smhrd\\Anaconda3\\lib\\site-packages\\sklearn\\linear_model\\_logistic.py:762: ConvergenceWarning: lbfgs failed to converge (status=1):\n",
      "STOP: TOTAL NO. of ITERATIONS REACHED LIMIT.\n",
      "\n",
      "Increase the number of iterations (max_iter) or scale the data as shown in:\n",
      "    https://scikit-learn.org/stable/modules/preprocessing.html\n",
      "Please also refer to the documentation for alternative solver options:\n",
      "    https://scikit-learn.org/stable/modules/linear_model.html#logistic-regression\n",
      "  n_iter_i = _check_optimize_result(\n"
     ]
    },
    {
     "data": {
      "text/plain": [
       "Pipeline(steps=[('tfidfvectorizer',\n",
       "                 TfidfVectorizer(tokenizer=<function tokenizer at 0x000001D314AD4DC0>)),\n",
       "                ('logisticregression', LogisticRegression())])"
      ]
     },
     "execution_count": 880,
     "metadata": {},
     "output_type": "execute_result"
    }
   ],
   "source": [
    "pipe_model.fit(X_train, y_train)"
   ]
  },
  {
   "cell_type": "code",
   "execution_count": 881,
   "metadata": {
    "ExecuteTime": {
     "end_time": "2021-03-22T07:56:23.334199Z",
     "start_time": "2021-03-22T07:43:43.188009Z"
    },
    "scrolled": true
   },
   "outputs": [
    {
     "name": "stderr",
     "output_type": "stream",
     "text": [
      "C:\\Users\\smhrd\\Anaconda3\\lib\\site-packages\\sklearn\\linear_model\\_logistic.py:762: ConvergenceWarning: lbfgs failed to converge (status=1):\n",
      "STOP: TOTAL NO. of ITERATIONS REACHED LIMIT.\n",
      "\n",
      "Increase the number of iterations (max_iter) or scale the data as shown in:\n",
      "    https://scikit-learn.org/stable/modules/preprocessing.html\n",
      "Please also refer to the documentation for alternative solver options:\n",
      "    https://scikit-learn.org/stable/modules/linear_model.html#logistic-regression\n",
      "  n_iter_i = _check_optimize_result(\n",
      "C:\\Users\\smhrd\\Anaconda3\\lib\\site-packages\\sklearn\\linear_model\\_logistic.py:762: ConvergenceWarning: lbfgs failed to converge (status=1):\n",
      "STOP: TOTAL NO. of ITERATIONS REACHED LIMIT.\n",
      "\n",
      "Increase the number of iterations (max_iter) or scale the data as shown in:\n",
      "    https://scikit-learn.org/stable/modules/preprocessing.html\n",
      "Please also refer to the documentation for alternative solver options:\n",
      "    https://scikit-learn.org/stable/modules/linear_model.html#logistic-regression\n",
      "  n_iter_i = _check_optimize_result(\n",
      "C:\\Users\\smhrd\\Anaconda3\\lib\\site-packages\\sklearn\\linear_model\\_logistic.py:762: ConvergenceWarning: lbfgs failed to converge (status=1):\n",
      "STOP: TOTAL NO. of ITERATIONS REACHED LIMIT.\n",
      "\n",
      "Increase the number of iterations (max_iter) or scale the data as shown in:\n",
      "    https://scikit-learn.org/stable/modules/preprocessing.html\n",
      "Please also refer to the documentation for alternative solver options:\n",
      "    https://scikit-learn.org/stable/modules/linear_model.html#logistic-regression\n",
      "  n_iter_i = _check_optimize_result(\n",
      "C:\\Users\\smhrd\\Anaconda3\\lib\\site-packages\\sklearn\\linear_model\\_logistic.py:762: ConvergenceWarning: lbfgs failed to converge (status=1):\n",
      "STOP: TOTAL NO. of ITERATIONS REACHED LIMIT.\n",
      "\n",
      "Increase the number of iterations (max_iter) or scale the data as shown in:\n",
      "    https://scikit-learn.org/stable/modules/preprocessing.html\n",
      "Please also refer to the documentation for alternative solver options:\n",
      "    https://scikit-learn.org/stable/modules/linear_model.html#logistic-regression\n",
      "  n_iter_i = _check_optimize_result(\n",
      "C:\\Users\\smhrd\\Anaconda3\\lib\\site-packages\\sklearn\\linear_model\\_logistic.py:762: ConvergenceWarning: lbfgs failed to converge (status=1):\n",
      "STOP: TOTAL NO. of ITERATIONS REACHED LIMIT.\n",
      "\n",
      "Increase the number of iterations (max_iter) or scale the data as shown in:\n",
      "    https://scikit-learn.org/stable/modules/preprocessing.html\n",
      "Please also refer to the documentation for alternative solver options:\n",
      "    https://scikit-learn.org/stable/modules/linear_model.html#logistic-regression\n",
      "  n_iter_i = _check_optimize_result(\n"
     ]
    },
    {
     "data": {
      "text/plain": [
       "0.8239457787071908"
      ]
     },
     "execution_count": 881,
     "metadata": {},
     "output_type": "execute_result"
    }
   ],
   "source": [
    "cross_val_score(pipe_model,X_train, y_train, cv=5).mean()"
   ]
  },
  {
   "cell_type": "code",
   "execution_count": 883,
   "metadata": {
    "ExecuteTime": {
     "end_time": "2021-03-22T07:57:25.374725Z",
     "start_time": "2021-03-22T07:56:23.626400Z"
    }
   },
   "outputs": [
    {
     "data": {
      "text/plain": [
       "0.8195197521301317"
      ]
     },
     "execution_count": 883,
     "metadata": {},
     "output_type": "execute_result"
    }
   ],
   "source": [
    "#불용어로 키워드를 제외했을때 약 0.6의 정확도를 보임\n",
    "#불용어를 제외 했을때는\n",
    "pipe_model.score(X_test,y_test)"
   ]
  },
  {
   "cell_type": "code",
   "execution_count": 882,
   "metadata": {
    "ExecuteTime": {
     "end_time": "2021-03-22T07:56:23.483782Z",
     "start_time": "2021-03-22T07:56:23.476800Z"
    }
   },
   "outputs": [
    {
     "data": {
      "text/plain": [
       "array([1, 3, 8, 6, 5, 7, 4, 2], dtype=int64)"
      ]
     },
     "execution_count": 882,
     "metadata": {},
     "output_type": "execute_result"
    }
   ],
   "source": [
    "pipe_model.predict(text)"
   ]
  },
  {
   "cell_type": "code",
   "execution_count": 884,
   "metadata": {
    "ExecuteTime": {
     "end_time": "2021-03-22T07:57:25.526323Z",
     "start_time": "2021-03-22T07:57:25.517348Z"
    }
   },
   "outputs": [
    {
     "data": {
      "text/plain": [
       "array([[9.99997397e-01, 4.37813412e-07, 2.38099144e-07, 6.09783867e-07,\n",
       "        2.91842812e-07, 1.58344607e-07, 6.76941481e-07, 1.90030033e-07],\n",
       "       [1.35656452e-10, 1.16406971e-09, 9.99999994e-01, 9.06800157e-10,\n",
       "        1.19865643e-09, 9.15404035e-10, 9.66187048e-10, 9.11619544e-10],\n",
       "       [3.64758786e-10, 4.80508838e-10, 8.47303046e-10, 2.91675053e-10,\n",
       "        8.98208064e-10, 3.04066534e-10, 6.99376729e-10, 9.99999996e-01],\n",
       "       [3.58538804e-07, 3.33524812e-07, 8.70958195e-07, 4.24155833e-06,\n",
       "        6.11001777e-07, 9.99990679e-01, 6.38754716e-07, 2.26675845e-06],\n",
       "       [3.93119671e-10, 1.92535001e-09, 1.09280250e-09, 1.19230666e-09,\n",
       "        9.99999991e-01, 1.31172177e-09, 1.40785867e-09, 1.57637722e-09],\n",
       "       [6.05342880e-10, 1.74648178e-09, 2.38848083e-09, 1.69473338e-09,\n",
       "        1.70799658e-09, 1.50722982e-09, 9.99999988e-01, 2.47493235e-09],\n",
       "       [3.08110926e-09, 1.38824001e-08, 9.73630538e-09, 9.99999929e-01,\n",
       "        7.23115330e-09, 1.00152332e-09, 8.47384440e-09, 2.77556284e-08],\n",
       "       [1.98124466e-09, 9.99999979e-01, 4.42139771e-09, 1.06184745e-09,\n",
       "        2.72082846e-09, 3.75623813e-09, 3.88483222e-09, 3.38129858e-09]])"
      ]
     },
     "execution_count": 884,
     "metadata": {},
     "output_type": "execute_result"
    }
   ],
   "source": [
    "pipe_model.predict_proba(text)"
   ]
  },
  {
   "cell_type": "code",
   "execution_count": 753,
   "metadata": {
    "ExecuteTime": {
     "end_time": "2021-03-22T05:00:17.275819Z",
     "start_time": "2021-03-22T05:00:17.265822Z"
    }
   },
   "outputs": [
    {
     "data": {
      "text/plain": [
       "array([4], dtype=int64)"
      ]
     },
     "execution_count": 753,
     "metadata": {},
     "output_type": "execute_result"
    }
   ],
   "source": [
    "pipe_model.predict(text)"
   ]
  },
  {
   "cell_type": "markdown",
   "metadata": {},
   "source": [
    "### 단어별 가중치 맵핑"
   ]
  },
  {
   "cell_type": "code",
   "execution_count": 870,
   "metadata": {
    "ExecuteTime": {
     "end_time": "2021-03-22T07:29:45.502577Z",
     "start_time": "2021-03-22T07:29:45.499586Z"
    }
   },
   "outputs": [
    {
     "data": {
      "text/plain": [
       "27952"
      ]
     },
     "execution_count": 870,
     "metadata": {},
     "output_type": "execute_result"
    }
   ],
   "source": [
    "len(pipe_model.steps[0][1].vocabulary_)"
   ]
  },
  {
   "cell_type": "code",
   "execution_count": 45,
   "metadata": {
    "ExecuteTime": {
     "end_time": "2021-03-24T02:19:12.420512Z",
     "start_time": "2021-03-24T02:19:12.416534Z"
    }
   },
   "outputs": [],
   "source": [
    "voca=final_model.steps[0][1]"
   ]
  },
  {
   "cell_type": "code",
   "execution_count": 47,
   "metadata": {
    "ExecuteTime": {
     "end_time": "2021-03-24T02:19:21.110484Z",
     "start_time": "2021-03-24T02:19:21.105517Z"
    }
   },
   "outputs": [
    {
     "data": {
      "text/plain": [
       "23704"
      ]
     },
     "execution_count": 47,
     "metadata": {},
     "output_type": "execute_result"
    }
   ],
   "source": [
    "len(voca.vocabulary_)"
   ]
  },
  {
   "cell_type": "code",
   "execution_count": 48,
   "metadata": {
    "ExecuteTime": {
     "end_time": "2021-03-24T02:19:23.116371Z",
     "start_time": "2021-03-24T02:19:23.113352Z"
    }
   },
   "outputs": [],
   "source": [
    "logi_W=final_model.steps[1][1]"
   ]
  },
  {
   "cell_type": "code",
   "execution_count": 49,
   "metadata": {
    "ExecuteTime": {
     "end_time": "2021-03-24T02:19:23.803696Z",
     "start_time": "2021-03-24T02:19:23.800704Z"
    }
   },
   "outputs": [],
   "source": [
    "logi_W=logi_W.coef_\n"
   ]
  },
  {
   "cell_type": "code",
   "execution_count": 50,
   "metadata": {
    "ExecuteTime": {
     "end_time": "2021-03-24T02:19:25.869287Z",
     "start_time": "2021-03-24T02:19:25.865297Z"
    }
   },
   "outputs": [
    {
     "data": {
      "text/plain": [
       "(8, 23704)"
      ]
     },
     "execution_count": 50,
     "metadata": {},
     "output_type": "execute_result"
    }
   ],
   "source": [
    "logi_W.shape"
   ]
  },
  {
   "cell_type": "code",
   "execution_count": 51,
   "metadata": {
    "ExecuteTime": {
     "end_time": "2021-03-24T02:19:28.676787Z",
     "start_time": "2021-03-24T02:19:28.673788Z"
    }
   },
   "outputs": [],
   "source": [
    "logi_W=logi_W.T"
   ]
  },
  {
   "cell_type": "code",
   "execution_count": 52,
   "metadata": {
    "ExecuteTime": {
     "end_time": "2021-03-24T02:19:29.436775Z",
     "start_time": "2021-03-24T02:19:29.432794Z"
    }
   },
   "outputs": [
    {
     "data": {
      "text/plain": [
       "(23704, 8)"
      ]
     },
     "execution_count": 52,
     "metadata": {},
     "output_type": "execute_result"
    }
   ],
   "source": [
    "logi_W.shape"
   ]
  },
  {
   "cell_type": "code",
   "execution_count": 471,
   "metadata": {
    "ExecuteTime": {
     "end_time": "2021-03-22T00:40:37.496563Z",
     "start_time": "2021-03-22T00:40:37.492574Z"
    }
   },
   "outputs": [
    {
     "data": {
      "text/plain": [
       "array([ 0.13696077, -0.66731934, -0.15693877, -0.35083457,  1.30026094,\n",
       "        0.18976786, -0.23817623, -0.21372066])"
      ]
     },
     "execution_count": 471,
     "metadata": {},
     "output_type": "execute_result"
    }
   ],
   "source": [
    "logi_W[0]"
   ]
  },
  {
   "cell_type": "code",
   "execution_count": 53,
   "metadata": {
    "ExecuteTime": {
     "end_time": "2021-03-24T02:19:37.238961Z",
     "start_time": "2021-03-24T02:19:36.151842Z"
    }
   },
   "outputs": [],
   "source": [
    "df_model=pd.DataFrame([voca.vocabulary_.values(),voca.vocabulary_.keys()],index=['Index','Voca'])"
   ]
  },
  {
   "cell_type": "code",
   "execution_count": 54,
   "metadata": {
    "ExecuteTime": {
     "end_time": "2021-03-24T02:19:38.140526Z",
     "start_time": "2021-03-24T02:19:38.118613Z"
    }
   },
   "outputs": [
    {
     "data": {
      "text/html": [
       "<div>\n",
       "<style scoped>\n",
       "    .dataframe tbody tr th:only-of-type {\n",
       "        vertical-align: middle;\n",
       "    }\n",
       "\n",
       "    .dataframe tbody tr th {\n",
       "        vertical-align: top;\n",
       "    }\n",
       "\n",
       "    .dataframe thead th {\n",
       "        text-align: right;\n",
       "    }\n",
       "</style>\n",
       "<table border=\"1\" class=\"dataframe\">\n",
       "  <thead>\n",
       "    <tr style=\"text-align: right;\">\n",
       "      <th></th>\n",
       "      <th>0</th>\n",
       "      <th>1</th>\n",
       "      <th>2</th>\n",
       "      <th>3</th>\n",
       "      <th>4</th>\n",
       "      <th>5</th>\n",
       "      <th>6</th>\n",
       "      <th>7</th>\n",
       "      <th>8</th>\n",
       "      <th>9</th>\n",
       "      <th>...</th>\n",
       "      <th>23694</th>\n",
       "      <th>23695</th>\n",
       "      <th>23696</th>\n",
       "      <th>23697</th>\n",
       "      <th>23698</th>\n",
       "      <th>23699</th>\n",
       "      <th>23700</th>\n",
       "      <th>23701</th>\n",
       "      <th>23702</th>\n",
       "      <th>23703</th>\n",
       "    </tr>\n",
       "  </thead>\n",
       "  <tbody>\n",
       "    <tr>\n",
       "      <th>Index</th>\n",
       "      <td>4155</td>\n",
       "      <td>4328</td>\n",
       "      <td>4047</td>\n",
       "      <td>4159</td>\n",
       "      <td>4938</td>\n",
       "      <td>3098</td>\n",
       "      <td>3528</td>\n",
       "      <td>14310</td>\n",
       "      <td>7353</td>\n",
       "      <td>11402</td>\n",
       "      <td>...</td>\n",
       "      <td>6518</td>\n",
       "      <td>19450</td>\n",
       "      <td>3389</td>\n",
       "      <td>4993</td>\n",
       "      <td>12396</td>\n",
       "      <td>11210</td>\n",
       "      <td>13963</td>\n",
       "      <td>17503</td>\n",
       "      <td>13646</td>\n",
       "      <td>15281</td>\n",
       "    </tr>\n",
       "    <tr>\n",
       "      <th>Voca</th>\n",
       "      <td>아무도</td>\n",
       "      <td>없어서</td>\n",
       "      <td>신남</td>\n",
       "      <td>아빠</td>\n",
       "      <td>자유</td>\n",
       "      <td>를</td>\n",
       "      <td>봐</td>\n",
       "      <td>스타</td>\n",
       "      <td>그램</td>\n",
       "      <td>믹스견</td>\n",
       "      <td>...</td>\n",
       "      <td>건강 다이어트</td>\n",
       "      <td>졸업 하다</td>\n",
       "      <td>바람</td>\n",
       "      <td>저와</td>\n",
       "      <td>분노 에너지</td>\n",
       "      <td>문의 환영</td>\n",
       "      <td>소중하다 친구</td>\n",
       "      <td>의전</td>\n",
       "      <td>설레다 날씨</td>\n",
       "      <td>아침 7시</td>\n",
       "    </tr>\n",
       "  </tbody>\n",
       "</table>\n",
       "<p>2 rows × 23704 columns</p>\n",
       "</div>"
      ],
      "text/plain": [
       "        0        1       2     3     4     5     6      7     8      9      \\\n",
       "Index    4155     4328    4047  4159  4938  3098  3528  14310  7353  11402   \n",
       "Voca   아무도  없어서  신남  아빠  자유   를    봐     스타    그램    믹스견   \n",
       "\n",
       "       ...    23694  23695  23696 23697   23698  23699    23700  23701  \\\n",
       "Index  ...     6518  19450   3389  4993   12396  11210    13963  17503   \n",
       "Voca   ...  건강 다이어트  졸업 하다  바람  저와  분노 에너지  문의 환영  소중하다 친구     의전   \n",
       "\n",
       "        23702  23703  \n",
       "Index   13646  15281  \n",
       "Voca   설레다 날씨  아침 7시  \n",
       "\n",
       "[2 rows x 23704 columns]"
      ]
     },
     "execution_count": 54,
     "metadata": {},
     "output_type": "execute_result"
    }
   ],
   "source": [
    "df_model"
   ]
  },
  {
   "cell_type": "code",
   "execution_count": 55,
   "metadata": {
    "ExecuteTime": {
     "end_time": "2021-03-24T02:19:41.888505Z",
     "start_time": "2021-03-24T02:19:41.880525Z"
    }
   },
   "outputs": [],
   "source": [
    "df_model=df_model.T"
   ]
  },
  {
   "cell_type": "code",
   "execution_count": 56,
   "metadata": {
    "ExecuteTime": {
     "end_time": "2021-03-24T02:19:44.271290Z",
     "start_time": "2021-03-24T02:19:44.264299Z"
    },
    "collapsed": true
   },
   "outputs": [
    {
     "data": {
      "text/html": [
       "<div>\n",
       "<style scoped>\n",
       "    .dataframe tbody tr th:only-of-type {\n",
       "        vertical-align: middle;\n",
       "    }\n",
       "\n",
       "    .dataframe tbody tr th {\n",
       "        vertical-align: top;\n",
       "    }\n",
       "\n",
       "    .dataframe thead th {\n",
       "        text-align: right;\n",
       "    }\n",
       "</style>\n",
       "<table border=\"1\" class=\"dataframe\">\n",
       "  <thead>\n",
       "    <tr style=\"text-align: right;\">\n",
       "      <th></th>\n",
       "      <th>Index</th>\n",
       "      <th>Voca</th>\n",
       "    </tr>\n",
       "  </thead>\n",
       "  <tbody>\n",
       "    <tr>\n",
       "      <th>0</th>\n",
       "      <td>4155</td>\n",
       "      <td>아무도</td>\n",
       "    </tr>\n",
       "    <tr>\n",
       "      <th>1</th>\n",
       "      <td>4328</td>\n",
       "      <td>없어서</td>\n",
       "    </tr>\n",
       "    <tr>\n",
       "      <th>2</th>\n",
       "      <td>4047</td>\n",
       "      <td>신남</td>\n",
       "    </tr>\n",
       "    <tr>\n",
       "      <th>3</th>\n",
       "      <td>4159</td>\n",
       "      <td>아빠</td>\n",
       "    </tr>\n",
       "    <tr>\n",
       "      <th>4</th>\n",
       "      <td>4938</td>\n",
       "      <td>자유</td>\n",
       "    </tr>\n",
       "    <tr>\n",
       "      <th>...</th>\n",
       "      <td>...</td>\n",
       "      <td>...</td>\n",
       "    </tr>\n",
       "    <tr>\n",
       "      <th>23699</th>\n",
       "      <td>11210</td>\n",
       "      <td>문의 환영</td>\n",
       "    </tr>\n",
       "    <tr>\n",
       "      <th>23700</th>\n",
       "      <td>13963</td>\n",
       "      <td>소중하다 친구</td>\n",
       "    </tr>\n",
       "    <tr>\n",
       "      <th>23701</th>\n",
       "      <td>17503</td>\n",
       "      <td>의전</td>\n",
       "    </tr>\n",
       "    <tr>\n",
       "      <th>23702</th>\n",
       "      <td>13646</td>\n",
       "      <td>설레다 날씨</td>\n",
       "    </tr>\n",
       "    <tr>\n",
       "      <th>23703</th>\n",
       "      <td>15281</td>\n",
       "      <td>아침 7시</td>\n",
       "    </tr>\n",
       "  </tbody>\n",
       "</table>\n",
       "<p>23704 rows × 2 columns</p>\n",
       "</div>"
      ],
      "text/plain": [
       "       Index     Voca\n",
       "0       4155   아무도\n",
       "1       4328  없어서\n",
       "2       4047   신남\n",
       "3       4159     아빠\n",
       "4       4938     자유\n",
       "...      ...      ...\n",
       "23699  11210    문의 환영\n",
       "23700  13963  소중하다 친구\n",
       "23701  17503       의전\n",
       "23702  13646   설레다 날씨\n",
       "23703  15281    아침 7시\n",
       "\n",
       "[23704 rows x 2 columns]"
      ]
     },
     "execution_count": 56,
     "metadata": {},
     "output_type": "execute_result"
    }
   ],
   "source": [
    "df_model"
   ]
  },
  {
   "cell_type": "code",
   "execution_count": 57,
   "metadata": {
    "ExecuteTime": {
     "end_time": "2021-03-24T02:19:47.612603Z",
     "start_time": "2021-03-24T02:19:47.609630Z"
    }
   },
   "outputs": [],
   "source": [
    "col=['coef:1','coef:2','coef:3','coef:4','coef:5','coef:6','coef:7','coef:8']"
   ]
  },
  {
   "cell_type": "code",
   "execution_count": 58,
   "metadata": {
    "ExecuteTime": {
     "end_time": "2021-03-24T02:19:49.260273Z",
     "start_time": "2021-03-24T02:19:49.240299Z"
    }
   },
   "outputs": [],
   "source": [
    "df_sorted=df_model.sort_values(by=\"Index\")"
   ]
  },
  {
   "cell_type": "code",
   "execution_count": 59,
   "metadata": {
    "ExecuteTime": {
     "end_time": "2021-03-24T02:19:51.612998Z",
     "start_time": "2021-03-24T02:19:51.608011Z"
    }
   },
   "outputs": [],
   "source": [
    "df_sorted=df_sorted.reset_index(drop=True)"
   ]
  },
  {
   "cell_type": "code",
   "execution_count": 60,
   "metadata": {
    "ExecuteTime": {
     "end_time": "2021-03-24T02:19:53.080076Z",
     "start_time": "2021-03-24T02:19:53.072096Z"
    }
   },
   "outputs": [
    {
     "data": {
      "text/html": [
       "<div>\n",
       "<style scoped>\n",
       "    .dataframe tbody tr th:only-of-type {\n",
       "        vertical-align: middle;\n",
       "    }\n",
       "\n",
       "    .dataframe tbody tr th {\n",
       "        vertical-align: top;\n",
       "    }\n",
       "\n",
       "    .dataframe thead th {\n",
       "        text-align: right;\n",
       "    }\n",
       "</style>\n",
       "<table border=\"1\" class=\"dataframe\">\n",
       "  <thead>\n",
       "    <tr style=\"text-align: right;\">\n",
       "      <th></th>\n",
       "      <th>Index</th>\n",
       "      <th>Voca</th>\n",
       "    </tr>\n",
       "  </thead>\n",
       "  <tbody>\n",
       "    <tr>\n",
       "      <th>0</th>\n",
       "      <td>0</td>\n",
       "      <td>00</td>\n",
       "    </tr>\n",
       "    <tr>\n",
       "      <th>1</th>\n",
       "      <td>1</td>\n",
       "      <td>00 선팔</td>\n",
       "    </tr>\n",
       "    <tr>\n",
       "      <th>2</th>\n",
       "      <td>2</td>\n",
       "      <td>000</td>\n",
       "    </tr>\n",
       "    <tr>\n",
       "      <th>3</th>\n",
       "      <td>3</td>\n",
       "      <td>000 원</td>\n",
       "    </tr>\n",
       "    <tr>\n",
       "      <th>4</th>\n",
       "      <td>4</td>\n",
       "      <td>000원</td>\n",
       "    </tr>\n",
       "    <tr>\n",
       "      <th>...</th>\n",
       "      <td>...</td>\n",
       "      <td>...</td>\n",
       "    </tr>\n",
       "    <tr>\n",
       "      <th>23699</th>\n",
       "      <td>23699</td>\n",
       "      <td>𝑫𝑨𝒀</td>\n",
       "    </tr>\n",
       "    <tr>\n",
       "      <th>23700</th>\n",
       "      <td>23700</td>\n",
       "      <td>𝑫𝑨𝒀 5일</td>\n",
       "    </tr>\n",
       "    <tr>\n",
       "      <th>23701</th>\n",
       "      <td>23701</td>\n",
       "      <td>𝒅𝒐𝑻𝑬𝑹𝑹𝑨</td>\n",
       "    </tr>\n",
       "    <tr>\n",
       "      <th>23702</th>\n",
       "      <td>23702</td>\n",
       "      <td>𝒅𝒐𝑻𝑬𝑹𝑹𝑨 𝑩𝑶𝑮𝑶</td>\n",
       "    </tr>\n",
       "    <tr>\n",
       "      <th>23703</th>\n",
       "      <td>23703</td>\n",
       "      <td>𝗕𝗢𝗚𝗢</td>\n",
       "    </tr>\n",
       "  </tbody>\n",
       "</table>\n",
       "<p>23704 rows × 2 columns</p>\n",
       "</div>"
      ],
      "text/plain": [
       "       Index          Voca\n",
       "0          0            00\n",
       "1          1     00 선팔\n",
       "2          2           000\n",
       "3          3       000 원\n",
       "4          4          000원\n",
       "...      ...           ...\n",
       "23699  23699           𝑫𝑨𝒀\n",
       "23700  23700        𝑫𝑨𝒀 5일\n",
       "23701  23701       𝒅𝒐𝑻𝑬𝑹𝑹𝑨\n",
       "23702  23702  𝒅𝒐𝑻𝑬𝑹𝑹𝑨 𝑩𝑶𝑮𝑶\n",
       "23703  23703          𝗕𝗢𝗚𝗢\n",
       "\n",
       "[23704 rows x 2 columns]"
      ]
     },
     "execution_count": 60,
     "metadata": {},
     "output_type": "execute_result"
    }
   ],
   "source": [
    "df_sorted"
   ]
  },
  {
   "cell_type": "code",
   "execution_count": 61,
   "metadata": {
    "ExecuteTime": {
     "end_time": "2021-03-24T02:20:09.846492Z",
     "start_time": "2021-03-24T02:20:09.840508Z"
    }
   },
   "outputs": [],
   "source": [
    "final_df=pd.concat([df_sorted,pd.DataFrame(logi_W,columns=col)],axis=1)"
   ]
  },
  {
   "cell_type": "code",
   "execution_count": 65,
   "metadata": {
    "ExecuteTime": {
     "end_time": "2021-03-24T02:21:18.651887Z",
     "start_time": "2021-03-24T02:21:18.632964Z"
    }
   },
   "outputs": [
    {
     "data": {
      "text/html": [
       "<div>\n",
       "<style scoped>\n",
       "    .dataframe tbody tr th:only-of-type {\n",
       "        vertical-align: middle;\n",
       "    }\n",
       "\n",
       "    .dataframe tbody tr th {\n",
       "        vertical-align: top;\n",
       "    }\n",
       "\n",
       "    .dataframe thead th {\n",
       "        text-align: right;\n",
       "    }\n",
       "</style>\n",
       "<table border=\"1\" class=\"dataframe\">\n",
       "  <thead>\n",
       "    <tr style=\"text-align: right;\">\n",
       "      <th></th>\n",
       "      <th>Index</th>\n",
       "      <th>Voca</th>\n",
       "      <th>coef:1</th>\n",
       "      <th>coef:2</th>\n",
       "      <th>coef:3</th>\n",
       "      <th>coef:4</th>\n",
       "      <th>coef:5</th>\n",
       "      <th>coef:6</th>\n",
       "      <th>coef:7</th>\n",
       "      <th>coef:8</th>\n",
       "    </tr>\n",
       "  </thead>\n",
       "  <tbody>\n",
       "    <tr>\n",
       "      <th>13627</th>\n",
       "      <td>13627</td>\n",
       "      <td>설레다</td>\n",
       "      <td>-3.513575</td>\n",
       "      <td>-2.226602</td>\n",
       "      <td>-2.844116</td>\n",
       "      <td>-2.341409</td>\n",
       "      <td>17.604074</td>\n",
       "      <td>-2.412523</td>\n",
       "      <td>-2.229935</td>\n",
       "      <td>-2.035914</td>\n",
       "    </tr>\n",
       "    <tr>\n",
       "      <th>14656</th>\n",
       "      <td>14656</td>\n",
       "      <td>신나다</td>\n",
       "      <td>-3.627250</td>\n",
       "      <td>-2.288174</td>\n",
       "      <td>17.980344</td>\n",
       "      <td>-2.378820</td>\n",
       "      <td>-2.564111</td>\n",
       "      <td>-2.599881</td>\n",
       "      <td>-2.193396</td>\n",
       "      <td>-2.328712</td>\n",
       "    </tr>\n",
       "    <tr>\n",
       "      <th>12371</th>\n",
       "      <td>12371</td>\n",
       "      <td>분노</td>\n",
       "      <td>-2.942732</td>\n",
       "      <td>-2.660987</td>\n",
       "      <td>-2.257895</td>\n",
       "      <td>-2.441150</td>\n",
       "      <td>-2.343118</td>\n",
       "      <td>-2.874167</td>\n",
       "      <td>-2.188468</td>\n",
       "      <td>17.708518</td>\n",
       "    </tr>\n",
       "    <tr>\n",
       "      <th>22950</th>\n",
       "      <td>22950</td>\n",
       "      <td>행복</td>\n",
       "      <td>14.175190</td>\n",
       "      <td>-1.946615</td>\n",
       "      <td>-2.559628</td>\n",
       "      <td>-2.217979</td>\n",
       "      <td>-2.857324</td>\n",
       "      <td>-0.416373</td>\n",
       "      <td>-2.055046</td>\n",
       "      <td>-2.122225</td>\n",
       "    </tr>\n",
       "    <tr>\n",
       "      <th>23443</th>\n",
       "      <td>23443</td>\n",
       "      <td>후회</td>\n",
       "      <td>-2.790220</td>\n",
       "      <td>16.258265</td>\n",
       "      <td>-2.088868</td>\n",
       "      <td>-2.585693</td>\n",
       "      <td>-2.266081</td>\n",
       "      <td>-2.190549</td>\n",
       "      <td>-2.038689</td>\n",
       "      <td>-2.298165</td>\n",
       "    </tr>\n",
       "    <tr>\n",
       "      <th>...</th>\n",
       "      <td>...</td>\n",
       "      <td>...</td>\n",
       "      <td>...</td>\n",
       "      <td>...</td>\n",
       "      <td>...</td>\n",
       "      <td>...</td>\n",
       "      <td>...</td>\n",
       "      <td>...</td>\n",
       "      <td>...</td>\n",
       "      <td>...</td>\n",
       "    </tr>\n",
       "    <tr>\n",
       "      <th>10285</th>\n",
       "      <td>10285</td>\n",
       "      <td>마음</td>\n",
       "      <td>-0.164406</td>\n",
       "      <td>-0.198368</td>\n",
       "      <td>-1.427956</td>\n",
       "      <td>-0.210243</td>\n",
       "      <td>0.150790</td>\n",
       "      <td>0.032522</td>\n",
       "      <td>2.085391</td>\n",
       "      <td>-0.267731</td>\n",
       "    </tr>\n",
       "    <tr>\n",
       "      <th>23532</th>\n",
       "      <td>23532</td>\n",
       "      <td>휴식</td>\n",
       "      <td>-0.617806</td>\n",
       "      <td>-0.416761</td>\n",
       "      <td>-0.226768</td>\n",
       "      <td>-0.387757</td>\n",
       "      <td>-0.397855</td>\n",
       "      <td>0.398245</td>\n",
       "      <td>2.146293</td>\n",
       "      <td>-0.497591</td>\n",
       "    </tr>\n",
       "    <tr>\n",
       "      <th>16674</th>\n",
       "      <td>16674</td>\n",
       "      <td>오일</td>\n",
       "      <td>-0.374402</td>\n",
       "      <td>-0.389840</td>\n",
       "      <td>-0.355937</td>\n",
       "      <td>-0.206980</td>\n",
       "      <td>-0.312867</td>\n",
       "      <td>-0.428634</td>\n",
       "      <td>2.467273</td>\n",
       "      <td>-0.398612</td>\n",
       "    </tr>\n",
       "    <tr>\n",
       "      <th>4213</th>\n",
       "      <td>4213</td>\n",
       "      <td>안정</td>\n",
       "      <td>-1.192822</td>\n",
       "      <td>-1.070505</td>\n",
       "      <td>-0.989393</td>\n",
       "      <td>-1.021416</td>\n",
       "      <td>-1.060707</td>\n",
       "      <td>-1.215154</td>\n",
       "      <td>7.526055</td>\n",
       "      <td>-0.976058</td>\n",
       "    </tr>\n",
       "    <tr>\n",
       "      <th>15396</th>\n",
       "      <td>15396</td>\n",
       "      <td>안정</td>\n",
       "      <td>-2.855760</td>\n",
       "      <td>-2.289889</td>\n",
       "      <td>-2.066812</td>\n",
       "      <td>-2.105739</td>\n",
       "      <td>-2.294317</td>\n",
       "      <td>-2.426232</td>\n",
       "      <td>16.010321</td>\n",
       "      <td>-1.971572</td>\n",
       "    </tr>\n",
       "  </tbody>\n",
       "</table>\n",
       "<p>23704 rows × 10 columns</p>\n",
       "</div>"
      ],
      "text/plain": [
       "       Index    Voca     coef:1     coef:2     coef:3    coef:4     coef:5  \\\n",
       "13627  13627     설레다  -3.513575  -2.226602  -2.844116 -2.341409  17.604074   \n",
       "14656  14656     신나다  -3.627250  -2.288174  17.980344 -2.378820  -2.564111   \n",
       "12371  12371      분노  -2.942732  -2.660987  -2.257895 -2.441150  -2.343118   \n",
       "22950  22950      행복  14.175190  -1.946615  -2.559628 -2.217979  -2.857324   \n",
       "23443  23443      후회  -2.790220  16.258265  -2.088868 -2.585693  -2.266081   \n",
       "...      ...     ...        ...        ...        ...       ...        ...   \n",
       "10285  10285      마음  -0.164406  -0.198368  -1.427956 -0.210243   0.150790   \n",
       "23532  23532      휴식  -0.617806  -0.416761  -0.226768 -0.387757  -0.397855   \n",
       "16674  16674      오일  -0.374402  -0.389840  -0.355937 -0.206980  -0.312867   \n",
       "4213    4213  안정  -1.192822  -1.070505  -0.989393 -1.021416  -1.060707   \n",
       "15396  15396      안정  -2.855760  -2.289889  -2.066812 -2.105739  -2.294317   \n",
       "\n",
       "         coef:6     coef:7     coef:8  \n",
       "13627 -2.412523  -2.229935  -2.035914  \n",
       "14656 -2.599881  -2.193396  -2.328712  \n",
       "12371 -2.874167  -2.188468  17.708518  \n",
       "22950 -0.416373  -2.055046  -2.122225  \n",
       "23443 -2.190549  -2.038689  -2.298165  \n",
       "...         ...        ...        ...  \n",
       "10285  0.032522   2.085391  -0.267731  \n",
       "23532  0.398245   2.146293  -0.497591  \n",
       "16674 -0.428634   2.467273  -0.398612  \n",
       "4213  -1.215154   7.526055  -0.976058  \n",
       "15396 -2.426232  16.010321  -1.971572  \n",
       "\n",
       "[23704 rows x 10 columns]"
      ]
     },
     "execution_count": 65,
     "metadata": {},
     "output_type": "execute_result"
    }
   ],
   "source": [
    "final_df.sort_values(by=\"coef:7\")"
   ]
  },
  {
   "cell_type": "markdown",
   "metadata": {},
   "source": [
    "### 텍스트의 가중치 찾기"
   ]
  },
  {
   "cell_type": "code",
   "execution_count": 97,
   "metadata": {
    "ExecuteTime": {
     "end_time": "2021-03-24T03:38:20.094700Z",
     "start_time": "2021-03-24T03:38:20.088742Z"
    }
   },
   "outputs": [],
   "source": [
    "def findcoef(text):\n",
    "    emot=final_model.predict(text)\n",
    "    emot_coef=[]\n",
    "    emot_co=\"coef:\"+str(emot[0])\n",
    "    for token in tokenizer(text[0]):\n",
    "        df_mask=final_df['Voca']==token\n",
    "        sel_df=final_df[df_mask]\n",
    "        emot_po=sel_df[emot_co].values\n",
    "        emot_coef.append([token,emot_po])\n",
    "        \n",
    "        emot_df=pd.DataFrame(emot_coef,columns=[\"단어\",\"가중치\"+emot_co])\n",
    "        emot_df.drop_duplicates(['단어'],keep='last',inplace=True)\n",
    "        emot_df.sort_values(by=\"가중치\",ascending=False,inplace=True)\n",
    "    return emot_df"
   ]
  },
  {
   "cell_type": "code",
   "execution_count": 737,
   "metadata": {
    "ExecuteTime": {
     "end_time": "2021-03-22T02:33:31.042913Z",
     "start_time": "2021-03-22T02:33:31.031934Z"
    },
    "scrolled": true
   },
   "outputs": [
    {
     "data": {
      "text/plain": [
       "array([[-2.84087015, -2.40093182, -2.71104158, -0.67082082, -3.35954453,\n",
       "        -2.3044361 , -3.12068807, -2.35870612]])"
      ]
     },
     "execution_count": 737,
     "metadata": {},
     "output_type": "execute_result"
    }
   ],
   "source": [
    "pipe_model.predict_log_proba(text)"
   ]
  },
  {
   "cell_type": "code",
   "execution_count": 98,
   "metadata": {
    "ExecuteTime": {
     "end_time": "2021-03-24T03:38:27.023400Z",
     "start_time": "2021-03-24T03:38:27.009437Z"
    },
    "collapsed": true
   },
   "outputs": [
    {
     "ename": "NotFittedError",
     "evalue": "The TF-IDF vectorizer is not fitted",
     "output_type": "error",
     "traceback": [
      "\u001b[1;31m---------------------------------------------------------------------------\u001b[0m",
      "\u001b[1;31mNotFittedError\u001b[0m                            Traceback (most recent call last)",
      "\u001b[1;32m<ipython-input-98-5c388e181ca9>\u001b[0m in \u001b[0;36m<module>\u001b[1;34m\u001b[0m\n\u001b[1;32m----> 1\u001b[1;33m \u001b[0memot\u001b[0m\u001b[1;33m=\u001b[0m\u001b[0mpipe_model\u001b[0m\u001b[1;33m.\u001b[0m\u001b[0mpredict\u001b[0m\u001b[1;33m(\u001b[0m\u001b[0mtext\u001b[0m\u001b[1;33m)\u001b[0m\u001b[1;33m\u001b[0m\u001b[1;33m\u001b[0m\u001b[0m\n\u001b[0m\u001b[0;32m      2\u001b[0m \u001b[0mtype\u001b[0m\u001b[1;33m(\u001b[0m\u001b[0memot\u001b[0m\u001b[1;33m)\u001b[0m\u001b[1;33m\u001b[0m\u001b[1;33m\u001b[0m\u001b[0m\n",
      "\u001b[1;32m~\\Anaconda3\\lib\\site-packages\\sklearn\\utils\\metaestimators.py\u001b[0m in \u001b[0;36m<lambda>\u001b[1;34m(*args, **kwargs)\u001b[0m\n\u001b[0;32m    117\u001b[0m \u001b[1;33m\u001b[0m\u001b[0m\n\u001b[0;32m    118\u001b[0m         \u001b[1;31m# lambda, but not partial, allows help() to work with update_wrapper\u001b[0m\u001b[1;33m\u001b[0m\u001b[1;33m\u001b[0m\u001b[1;33m\u001b[0m\u001b[0m\n\u001b[1;32m--> 119\u001b[1;33m         \u001b[0mout\u001b[0m \u001b[1;33m=\u001b[0m \u001b[1;32mlambda\u001b[0m \u001b[1;33m*\u001b[0m\u001b[0margs\u001b[0m\u001b[1;33m,\u001b[0m \u001b[1;33m**\u001b[0m\u001b[0mkwargs\u001b[0m\u001b[1;33m:\u001b[0m \u001b[0mself\u001b[0m\u001b[1;33m.\u001b[0m\u001b[0mfn\u001b[0m\u001b[1;33m(\u001b[0m\u001b[0mobj\u001b[0m\u001b[1;33m,\u001b[0m \u001b[1;33m*\u001b[0m\u001b[0margs\u001b[0m\u001b[1;33m,\u001b[0m \u001b[1;33m**\u001b[0m\u001b[0mkwargs\u001b[0m\u001b[1;33m)\u001b[0m\u001b[1;33m\u001b[0m\u001b[1;33m\u001b[0m\u001b[0m\n\u001b[0m\u001b[0;32m    120\u001b[0m         \u001b[1;31m# update the docstring of the returned function\u001b[0m\u001b[1;33m\u001b[0m\u001b[1;33m\u001b[0m\u001b[1;33m\u001b[0m\u001b[0m\n\u001b[0;32m    121\u001b[0m         \u001b[0mupdate_wrapper\u001b[0m\u001b[1;33m(\u001b[0m\u001b[0mout\u001b[0m\u001b[1;33m,\u001b[0m \u001b[0mself\u001b[0m\u001b[1;33m.\u001b[0m\u001b[0mfn\u001b[0m\u001b[1;33m)\u001b[0m\u001b[1;33m\u001b[0m\u001b[1;33m\u001b[0m\u001b[0m\n",
      "\u001b[1;32m~\\Anaconda3\\lib\\site-packages\\sklearn\\pipeline.py\u001b[0m in \u001b[0;36mpredict\u001b[1;34m(self, X, **predict_params)\u001b[0m\n\u001b[0;32m    405\u001b[0m         \u001b[0mXt\u001b[0m \u001b[1;33m=\u001b[0m \u001b[0mX\u001b[0m\u001b[1;33m\u001b[0m\u001b[1;33m\u001b[0m\u001b[0m\n\u001b[0;32m    406\u001b[0m         \u001b[1;32mfor\u001b[0m \u001b[0m_\u001b[0m\u001b[1;33m,\u001b[0m \u001b[0mname\u001b[0m\u001b[1;33m,\u001b[0m \u001b[0mtransform\u001b[0m \u001b[1;32min\u001b[0m \u001b[0mself\u001b[0m\u001b[1;33m.\u001b[0m\u001b[0m_iter\u001b[0m\u001b[1;33m(\u001b[0m\u001b[0mwith_final\u001b[0m\u001b[1;33m=\u001b[0m\u001b[1;32mFalse\u001b[0m\u001b[1;33m)\u001b[0m\u001b[1;33m:\u001b[0m\u001b[1;33m\u001b[0m\u001b[1;33m\u001b[0m\u001b[0m\n\u001b[1;32m--> 407\u001b[1;33m             \u001b[0mXt\u001b[0m \u001b[1;33m=\u001b[0m \u001b[0mtransform\u001b[0m\u001b[1;33m.\u001b[0m\u001b[0mtransform\u001b[0m\u001b[1;33m(\u001b[0m\u001b[0mXt\u001b[0m\u001b[1;33m)\u001b[0m\u001b[1;33m\u001b[0m\u001b[1;33m\u001b[0m\u001b[0m\n\u001b[0m\u001b[0;32m    408\u001b[0m         \u001b[1;32mreturn\u001b[0m \u001b[0mself\u001b[0m\u001b[1;33m.\u001b[0m\u001b[0msteps\u001b[0m\u001b[1;33m[\u001b[0m\u001b[1;33m-\u001b[0m\u001b[1;36m1\u001b[0m\u001b[1;33m]\u001b[0m\u001b[1;33m[\u001b[0m\u001b[1;33m-\u001b[0m\u001b[1;36m1\u001b[0m\u001b[1;33m]\u001b[0m\u001b[1;33m.\u001b[0m\u001b[0mpredict\u001b[0m\u001b[1;33m(\u001b[0m\u001b[0mXt\u001b[0m\u001b[1;33m,\u001b[0m \u001b[1;33m**\u001b[0m\u001b[0mpredict_params\u001b[0m\u001b[1;33m)\u001b[0m\u001b[1;33m\u001b[0m\u001b[1;33m\u001b[0m\u001b[0m\n\u001b[0;32m    409\u001b[0m \u001b[1;33m\u001b[0m\u001b[0m\n",
      "\u001b[1;32m~\\Anaconda3\\lib\\site-packages\\sklearn\\feature_extraction\\text.py\u001b[0m in \u001b[0;36mtransform\u001b[1;34m(self, raw_documents, copy)\u001b[0m\n\u001b[0;32m   1870\u001b[0m             \u001b[0mTf\u001b[0m\u001b[1;33m-\u001b[0m\u001b[0midf\u001b[0m\u001b[1;33m-\u001b[0m\u001b[0mweighted\u001b[0m \u001b[0mdocument\u001b[0m\u001b[1;33m-\u001b[0m\u001b[0mterm\u001b[0m \u001b[0mmatrix\u001b[0m\u001b[1;33m.\u001b[0m\u001b[1;33m\u001b[0m\u001b[1;33m\u001b[0m\u001b[0m\n\u001b[0;32m   1871\u001b[0m         \"\"\"\n\u001b[1;32m-> 1872\u001b[1;33m         \u001b[0mcheck_is_fitted\u001b[0m\u001b[1;33m(\u001b[0m\u001b[0mself\u001b[0m\u001b[1;33m,\u001b[0m \u001b[0mmsg\u001b[0m\u001b[1;33m=\u001b[0m\u001b[1;34m'The TF-IDF vectorizer is not fitted'\u001b[0m\u001b[1;33m)\u001b[0m\u001b[1;33m\u001b[0m\u001b[1;33m\u001b[0m\u001b[0m\n\u001b[0m\u001b[0;32m   1873\u001b[0m \u001b[1;33m\u001b[0m\u001b[0m\n\u001b[0;32m   1874\u001b[0m         \u001b[1;31m# FIXME Remove copy parameter support in 0.24\u001b[0m\u001b[1;33m\u001b[0m\u001b[1;33m\u001b[0m\u001b[1;33m\u001b[0m\u001b[0m\n",
      "\u001b[1;32m~\\Anaconda3\\lib\\site-packages\\sklearn\\utils\\validation.py\u001b[0m in \u001b[0;36minner_f\u001b[1;34m(*args, **kwargs)\u001b[0m\n\u001b[0;32m     70\u001b[0m                           FutureWarning)\n\u001b[0;32m     71\u001b[0m         \u001b[0mkwargs\u001b[0m\u001b[1;33m.\u001b[0m\u001b[0mupdate\u001b[0m\u001b[1;33m(\u001b[0m\u001b[1;33m{\u001b[0m\u001b[0mk\u001b[0m\u001b[1;33m:\u001b[0m \u001b[0marg\u001b[0m \u001b[1;32mfor\u001b[0m \u001b[0mk\u001b[0m\u001b[1;33m,\u001b[0m \u001b[0marg\u001b[0m \u001b[1;32min\u001b[0m \u001b[0mzip\u001b[0m\u001b[1;33m(\u001b[0m\u001b[0msig\u001b[0m\u001b[1;33m.\u001b[0m\u001b[0mparameters\u001b[0m\u001b[1;33m,\u001b[0m \u001b[0margs\u001b[0m\u001b[1;33m)\u001b[0m\u001b[1;33m}\u001b[0m\u001b[1;33m)\u001b[0m\u001b[1;33m\u001b[0m\u001b[1;33m\u001b[0m\u001b[0m\n\u001b[1;32m---> 72\u001b[1;33m         \u001b[1;32mreturn\u001b[0m \u001b[0mf\u001b[0m\u001b[1;33m(\u001b[0m\u001b[1;33m**\u001b[0m\u001b[0mkwargs\u001b[0m\u001b[1;33m)\u001b[0m\u001b[1;33m\u001b[0m\u001b[1;33m\u001b[0m\u001b[0m\n\u001b[0m\u001b[0;32m     73\u001b[0m     \u001b[1;32mreturn\u001b[0m \u001b[0minner_f\u001b[0m\u001b[1;33m\u001b[0m\u001b[1;33m\u001b[0m\u001b[0m\n\u001b[0;32m     74\u001b[0m \u001b[1;33m\u001b[0m\u001b[0m\n",
      "\u001b[1;32m~\\Anaconda3\\lib\\site-packages\\sklearn\\utils\\validation.py\u001b[0m in \u001b[0;36mcheck_is_fitted\u001b[1;34m(estimator, attributes, msg, all_or_any)\u001b[0m\n\u001b[0;32m   1017\u001b[0m \u001b[1;33m\u001b[0m\u001b[0m\n\u001b[0;32m   1018\u001b[0m     \u001b[1;32mif\u001b[0m \u001b[1;32mnot\u001b[0m \u001b[0mattrs\u001b[0m\u001b[1;33m:\u001b[0m\u001b[1;33m\u001b[0m\u001b[1;33m\u001b[0m\u001b[0m\n\u001b[1;32m-> 1019\u001b[1;33m         \u001b[1;32mraise\u001b[0m \u001b[0mNotFittedError\u001b[0m\u001b[1;33m(\u001b[0m\u001b[0mmsg\u001b[0m \u001b[1;33m%\u001b[0m \u001b[1;33m{\u001b[0m\u001b[1;34m'name'\u001b[0m\u001b[1;33m:\u001b[0m \u001b[0mtype\u001b[0m\u001b[1;33m(\u001b[0m\u001b[0mestimator\u001b[0m\u001b[1;33m)\u001b[0m\u001b[1;33m.\u001b[0m\u001b[0m__name__\u001b[0m\u001b[1;33m}\u001b[0m\u001b[1;33m)\u001b[0m\u001b[1;33m\u001b[0m\u001b[1;33m\u001b[0m\u001b[0m\n\u001b[0m\u001b[0;32m   1020\u001b[0m \u001b[1;33m\u001b[0m\u001b[0m\n\u001b[0;32m   1021\u001b[0m \u001b[1;33m\u001b[0m\u001b[0m\n",
      "\u001b[1;31mNotFittedError\u001b[0m: The TF-IDF vectorizer is not fitted"
     ]
    }
   ],
   "source": [
    "emot=pipe_model.predict(text)\n",
    "type(emot)"
   ]
  },
  {
   "cell_type": "code",
   "execution_count": null,
   "metadata": {},
   "outputs": [],
   "source": [
    "df_emot=findcoef(text)"
   ]
  },
  {
   "cell_type": "code",
   "execution_count": null,
   "metadata": {},
   "outputs": [],
   "source": [
    "pipe_model.predict_log_proba()"
   ]
  },
  {
   "cell_type": "markdown",
   "metadata": {
    "ExecuteTime": {
     "end_time": "2021-03-22T03:09:28.960653Z",
     "start_time": "2021-03-22T02:46:47.065Z"
    }
   },
   "source": [
    "### 그리드서치"
   ]
  },
  {
   "cell_type": "markdown",
   "metadata": {
    "ExecuteTime": {
     "end_time": "2021-03-22T08:06:55.760989Z",
     "start_time": "2021-03-22T08:06:55.755975Z"
    }
   },
   "source": [
    "from sklearn.model_selection import GridSearchCV\n",
    "param_grid={\n",
    "    'tfidfvectorizer__max_df':[7000,9000,11000],\n",
    "    'tfidfvectorizer__min_df':[7,9,11],\n",
    "    'tfidfvectorizer__ngram_range':[(1,1),(1,2),(1,3)],\n",
    "    'logisticregression__C':[0.01,0.1,1,10,100]\n",
    "}\n",
    "grid=GridSearchCV(pipe_model,param_grid,cv=5)"
   ]
  },
  {
   "cell_type": "markdown",
   "metadata": {
    "ExecuteTime": {
     "start_time": "2021-03-22T08:07:15.955Z"
    }
   },
   "source": [
    "grid.fit(X_train,y_train)"
   ]
  },
  {
   "cell_type": "markdown",
   "metadata": {
    "scrolled": true
   },
   "source": [
    "grid.best_params_"
   ]
  },
  {
   "cell_type": "markdown",
   "metadata": {
    "ExecuteTime": {
     "start_time": "2021-03-22T08:07:25.619Z"
    }
   },
   "source": [
    "grid.best_score_"
   ]
  },
  {
   "cell_type": "code",
   "execution_count": 8,
   "metadata": {
    "ExecuteTime": {
     "end_time": "2021-03-25T00:28:04.885270Z",
     "start_time": "2021-03-25T00:28:04.881280Z"
    }
   },
   "outputs": [],
   "source": [
    "########그리드 서치 바탕으로 만들 모델\n",
    "final_model=make_pipeline(TfidfVectorizer(tokenizer=tokenizer,max_df=5000,min_df=3,ngram_range=(1,2)),\n",
    "                         LogisticRegression(C=1))"
   ]
  },
  {
   "cell_type": "code",
   "execution_count": 9,
   "metadata": {
    "ExecuteTime": {
     "end_time": "2021-03-25T00:29:30.019743Z",
     "start_time": "2021-03-25T00:28:06.913983Z"
    }
   },
   "outputs": [
    {
     "name": "stderr",
     "output_type": "stream",
     "text": [
      "C:\\Users\\smhrd\\Anaconda3\\lib\\site-packages\\sklearn\\linear_model\\_logistic.py:762: ConvergenceWarning: lbfgs failed to converge (status=1):\n",
      "STOP: TOTAL NO. of ITERATIONS REACHED LIMIT.\n",
      "\n",
      "Increase the number of iterations (max_iter) or scale the data as shown in:\n",
      "    https://scikit-learn.org/stable/modules/preprocessing.html\n",
      "Please also refer to the documentation for alternative solver options:\n",
      "    https://scikit-learn.org/stable/modules/linear_model.html#logistic-regression\n",
      "  n_iter_i = _check_optimize_result(\n"
     ]
    },
    {
     "data": {
      "text/plain": [
       "Pipeline(steps=[('tfidfvectorizer',\n",
       "                 TfidfVectorizer(max_df=5000, min_df=3, ngram_range=(1, 2),\n",
       "                                 tokenizer=<function tokenizer at 0x000001E9BD075A60>)),\n",
       "                ('logisticregression', LogisticRegression(C=1))])"
      ]
     },
     "execution_count": 9,
     "metadata": {},
     "output_type": "execute_result"
    }
   ],
   "source": [
    "final_model.fit(X_train,y_train)"
   ]
  },
  {
   "cell_type": "code",
   "execution_count": null,
   "metadata": {
    "ExecuteTime": {
     "end_time": "2021-03-25T00:29:30.077665Z",
     "start_time": "2021-03-25T00:28:08.152Z"
    }
   },
   "outputs": [],
   "source": [
    "final_model.score(X_test,y_test)"
   ]
  },
  {
   "cell_type": "code",
   "execution_count": 10,
   "metadata": {
    "ExecuteTime": {
     "end_time": "2021-03-25T00:26:55.524519Z",
     "start_time": "2021-03-25T00:26:55.521526Z"
    }
   },
   "outputs": [],
   "source": [
    "def makelist(text):\n",
    "    textlist=[text]\n",
    "    return textlist"
   ]
  },
  {
   "cell_type": "markdown",
   "metadata": {
    "ExecuteTime": {
     "end_time": "2021-03-24T00:40:44.150371Z",
     "start_time": "2021-03-24T00:40:44.146382Z"
    }
   },
   "source": [
    "## label\n",
    "- 행복1, 신남3, 설렘5, 안정7 \n",
    "- 후회2, 슬픔4, 우울6, 분노8"
   ]
  },
  {
   "cell_type": "code",
   "execution_count": 119,
   "metadata": {
    "ExecuteTime": {
     "end_time": "2021-03-25T00:33:09.817512Z",
     "start_time": "2021-03-25T00:33:09.809533Z"
    }
   },
   "outputs": [
    {
     "data": {
      "text/plain": [
       "array([1], dtype=int64)"
      ]
     },
     "execution_count": 119,
     "metadata": {},
     "output_type": "execute_result"
    }
   ],
   "source": [
    "final_model.predict(makelist(text))"
   ]
  },
  {
   "cell_type": "markdown",
   "metadata": {},
   "source": [
    "# flask이용 통신"
   ]
  },
  {
   "cell_type": "code",
   "execution_count": 11,
   "metadata": {
    "ExecuteTime": {
     "end_time": "2021-03-24T00:35:39.960653Z",
     "start_time": "2021-03-24T00:35:39.957661Z"
    }
   },
   "outputs": [],
   "source": [
    "import pickle # 데이터 저장/로딩을 위한 모듈\n",
    "import pandas as pd\n",
    "import numpy as np"
   ]
  },
  {
   "cell_type": "code",
   "execution_count": 12,
   "metadata": {
    "ExecuteTime": {
     "end_time": "2021-03-24T00:35:40.218963Z",
     "start_time": "2021-03-24T00:35:39.996558Z"
    }
   },
   "outputs": [],
   "source": [
    "from flask import Flask, redirect, request, Response, session"
   ]
  },
  {
   "cell_type": "code",
   "execution_count": null,
   "metadata": {
    "ExecuteTime": {
     "end_time": "2021-03-25T03:14:40.678051Z",
     "start_time": "2021-03-25T02:49:21.620472Z"
    }
   },
   "outputs": [
    {
     "name": "stdout",
     "output_type": "stream",
     "text": [
      " * Serving Flask app \"__main__\" (lazy loading)\n",
      " * Environment: production\n",
      "   WARNING: This is a development server. Do not use it in a production deployment.\n",
      "   Use a production WSGI server instead.\n",
      " * Debug mode: off\n"
     ]
    },
    {
     "name": "stderr",
     "output_type": "stream",
     "text": [
      " * Running on http://localhost:9000/ (Press CTRL+C to quit)\n"
     ]
    }
   ],
   "source": [
    "app = Flask(__name__) # 내장변수 name을 이용해 서버를 구동시키는 객체 생성\n",
    "\n",
    "@app.route(\"/predict\", methods=[\"GET\",'POST'])\n",
    "def predict() :\n",
    "    \n",
    "    if request.method == 'POST':\n",
    "        \n",
    "        req=request.form\n",
    "        content=req.get(\"content\")\n",
    "        #userid=req.get(\"id\")\n",
    "        emote=req.get(\"emote\")\n",
    "        date=req.get(\"date\")\n",
    "        print(date)\n",
    "        print(emote)\n",
    "        \n",
    "        title=req.get(\"title\")\n",
    "        \n",
    "        \n",
    "        #데이터를 리스트화 시켜서 \n",
    "        #학습된 모델에 예측\n",
    "        predata=makelist(content)\n",
    "        result=final_model.predict(predata)\n",
    "        \n",
    "        if result==1:\n",
    "            analysis_e=\"행복\"\n",
    "        elif result ==2:\n",
    "            analysis_e=\"후회\"\n",
    "        elif result ==3:\n",
    "            analysis_e=\"신남\"\n",
    "        elif result ==4:\n",
    "            analysis_e=\"슬픔\"\n",
    "        elif result ==5:\n",
    "            analysis_e=\"설렘\"\n",
    "        elif result ==6:\n",
    "            analysis_e=\"우울\"\n",
    "        elif result ==7:\n",
    "            analysis_e=\"평온\"\n",
    "        elif result ==8:\n",
    "            analysis_e=\"분노\"\n",
    "  \n",
    "    return redirect(\"http://localhost:8086/PROJECT_2ND/WriteCon?title=\"+title+\"&content=\"+content+\"&emote=\"+emote+\"&date=\"+date+\"&analysis_e=\"+analysis_e)\n",
    "    \n",
    "    \n",
    "\n",
    "if __name__ == \"__main__\" : # .py 파일에서 main함수 역할\n",
    "    app.run(host=\"localhost\", port=\"9000\")"
   ]
  },
  {
   "cell_type": "markdown",
   "metadata": {},
   "source": [
    "### 다중분류 모델"
   ]
  },
  {
   "cell_type": "code",
   "execution_count": null,
   "metadata": {},
   "outputs": [],
   "source": []
  },
  {
   "cell_type": "code",
   "execution_count": 67,
   "metadata": {
    "ExecuteTime": {
     "end_time": "2021-03-24T02:30:35.372075Z",
     "start_time": "2021-03-24T02:30:35.369045Z"
    }
   },
   "outputs": [],
   "source": [
    "other_model=make_pipeline(TfidfVectorizer(tokenizer=tokenizer,max_df=5000,min_df=5,ngram_range=(1,2)), LogisticRegression(multi_class='multinomial',solver='lbfgs',C=1))"
   ]
  },
  {
   "cell_type": "code",
   "execution_count": 68,
   "metadata": {
    "ExecuteTime": {
     "end_time": "2021-03-24T02:32:01.075892Z",
     "start_time": "2021-03-24T02:30:36.488050Z"
    }
   },
   "outputs": [
    {
     "name": "stderr",
     "output_type": "stream",
     "text": [
      "C:\\Users\\smhrd\\Anaconda3\\lib\\site-packages\\sklearn\\linear_model\\_logistic.py:762: ConvergenceWarning: lbfgs failed to converge (status=1):\n",
      "STOP: TOTAL NO. of ITERATIONS REACHED LIMIT.\n",
      "\n",
      "Increase the number of iterations (max_iter) or scale the data as shown in:\n",
      "    https://scikit-learn.org/stable/modules/preprocessing.html\n",
      "Please also refer to the documentation for alternative solver options:\n",
      "    https://scikit-learn.org/stable/modules/linear_model.html#logistic-regression\n",
      "  n_iter_i = _check_optimize_result(\n"
     ]
    },
    {
     "data": {
      "text/plain": [
       "Pipeline(steps=[('tfidfvectorizer',\n",
       "                 TfidfVectorizer(max_df=5000, min_df=5, ngram_range=(1, 2),\n",
       "                                 tokenizer=<function tokenizer at 0x0000029C527830D0>)),\n",
       "                ('logisticregression',\n",
       "                 LogisticRegression(C=1, multi_class='multinomial'))])"
      ]
     },
     "execution_count": 68,
     "metadata": {},
     "output_type": "execute_result"
    }
   ],
   "source": [
    "other_model.fit(X_train, y_train)"
   ]
  },
  {
   "cell_type": "code",
   "execution_count": 69,
   "metadata": {
    "ExecuteTime": {
     "end_time": "2021-03-24T02:32:34.829934Z",
     "start_time": "2021-03-24T02:32:04.545881Z"
    }
   },
   "outputs": [
    {
     "data": {
      "text/plain": [
       "0.8270833333333333"
      ]
     },
     "execution_count": 69,
     "metadata": {},
     "output_type": "execute_result"
    }
   ],
   "source": [
    "other_model.score(X_test,y_test)"
   ]
  },
  {
   "cell_type": "code",
   "execution_count": 82,
   "metadata": {
    "ExecuteTime": {
     "end_time": "2021-03-24T02:38:52.152611Z",
     "start_time": "2021-03-24T02:38:52.143672Z"
    }
   },
   "outputs": [
    {
     "data": {
      "text/plain": [
       "array([[0.0157049 , 0.00632434, 0.00491311, 0.00821446, 0.00635089,\n",
       "        0.64092018, 0.31052359, 0.00704853]])"
      ]
     },
     "execution_count": 82,
     "metadata": {},
     "output_type": "execute_result"
    }
   ],
   "source": [
    "other_model.predict_proba(text)"
   ]
  }
 ],
 "metadata": {
  "kernelspec": {
   "display_name": "Python 3",
   "language": "python",
   "name": "python3"
  },
  "language_info": {
   "codemirror_mode": {
    "name": "ipython",
    "version": 3
   },
   "file_extension": ".py",
   "mimetype": "text/x-python",
   "name": "python",
   "nbconvert_exporter": "python",
   "pygments_lexer": "ipython3",
   "version": "3.8.5"
  },
  "varInspector": {
   "cols": {
    "lenName": 16,
    "lenType": 16,
    "lenVar": 40
   },
   "kernels_config": {
    "python": {
     "delete_cmd_postfix": "",
     "delete_cmd_prefix": "del ",
     "library": "var_list.py",
     "varRefreshCmd": "print(var_dic_list())"
    },
    "r": {
     "delete_cmd_postfix": ") ",
     "delete_cmd_prefix": "rm(",
     "library": "var_list.r",
     "varRefreshCmd": "cat(var_dic_list()) "
    }
   },
   "types_to_exclude": [
    "module",
    "function",
    "builtin_function_or_method",
    "instance",
    "_Feature"
   ],
   "window_display": false
  }
 },
 "nbformat": 4,
 "nbformat_minor": 4
}
